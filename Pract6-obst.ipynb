{
  "nbformat": 4,
  "nbformat_minor": 0,
  "metadata": {
    "colab": {
      "provenance": [],
      "authorship_tag": "ABX9TyM8opPpEYwCYyCm6QGA1aOW",
      "include_colab_link": true
    },
    "kernelspec": {
      "name": "python3",
      "display_name": "Python 3"
    },
    "language_info": {
      "name": "python"
    }
  },
  "cells": [
    {
      "cell_type": "markdown",
      "metadata": {
        "id": "view-in-github",
        "colab_type": "text"
      },
      "source": [
        "<a href=\"https://colab.research.google.com/github/harshprasad2006/LCSandLRS/blob/3rdsem/Pract6-obst.ipynb\" target=\"_parent\"><img src=\"https://colab.research.google.com/assets/colab-badge.svg\" alt=\"Open In Colab\"/></a>"
      ]
    },
    {
      "cell_type": "markdown",
      "source": [
        "### Name: Harsh Prasad"
      ],
      "metadata": {
        "id": "U-L2G3nHhkOa"
      }
    },
    {
      "cell_type": "markdown",
      "source": [
        "### Section: A4-B2-33"
      ],
      "metadata": {
        "id": "Y-_ew-J1hkbL"
      }
    },
    {
      "cell_type": "markdown",
      "source": [
        "## **Practical 6**"
      ],
      "metadata": {
        "id": "sIHeeW2ZhyA3"
      }
    },
    {
      "cell_type": "markdown",
      "source": [
        "####  **OBST**"
      ],
      "metadata": {
        "id": "S0U9PFPkh5i2"
      }
    },
    {
      "cell_type": "code",
      "source": [
        "\n",
        "def obst(keys, freq):\n",
        "    n = len(keys)\n",
        "    cost = [[0 for _ in range(n)] for _ in range(n)]\n",
        "\n",
        "    # When there is only one key, cost = frequency\n",
        "    for i in range(n):\n",
        "        cost[i][i] = freq[i]\n",
        "\n",
        "    # L is chain length (2 to n)\n",
        "    for L in range(2, n + 1):\n",
        "        for i in range(n - L + 1):\n",
        "            j = i + L - 1\n",
        "            cost[i][j] = float('inf')\n",
        "\n",
        "            # sum of frequencies from i to j\n",
        "            total_freq = sum(freq[i:j + 1])\n",
        "\n",
        "            # Try making each key root\n",
        "            for r in range(i, j + 1):\n",
        "                left = cost[i][r - 1] if r > i else 0\n",
        "                right = cost[r + 1][j] if r < j else 0\n",
        "                total_cost = left + right + total_freq\n",
        "\n",
        "                if total_cost < cost[i][j]:\n",
        "                    cost[i][j] = total_cost\n",
        "\n",
        "    return cost[0][n - 1]\n",
        "\n",
        "\n",
        "# Example:\n",
        "keys = [10, 12, 20]\n",
        "freq = [34, 8, 50]\n",
        "\n",
        "print(\"Minimum cost of OBST =\", obst(keys, freq))\n",
        "\n"
      ],
      "metadata": {
        "colab": {
          "base_uri": "https://localhost:8080/"
        },
        "id": "GnsJBo1Sh-s7",
        "outputId": "3bf3a618-81d3-4051-ff07-f92ef998103e"
      },
      "execution_count": 10,
      "outputs": [
        {
          "output_type": "stream",
          "name": "stdout",
          "text": [
            "Minimum cost of OBST = 142\n"
          ]
        }
      ]
    },
    {
      "cell_type": "code",
      "source": [],
      "metadata": {
        "id": "LJ5rEbCbiPaf"
      },
      "execution_count": null,
      "outputs": []
    }
  ]
}