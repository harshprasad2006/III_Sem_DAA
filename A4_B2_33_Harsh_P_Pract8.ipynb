{
  "nbformat": 4,
  "nbformat_minor": 0,
  "metadata": {
    "colab": {
      "provenance": []
    },
    "kernelspec": {
      "name": "python3",
      "display_name": "Python 3"
    },
    "language_info": {
      "name": "python"
    }
  },
  "cells": [
    {
      "cell_type": "markdown",
      "source": [
        "Name: Harsh Prasad\n"
      ],
      "metadata": {
        "id": "ZaukzWsxZ_l-"
      }
    },
    {
      "cell_type": "markdown",
      "source": [
        "Class: A4-B2-33\n"
      ],
      "metadata": {
        "id": "PMLfSUgvZ_ag"
      }
    },
    {
      "cell_type": "markdown",
      "source": [
        "#**Practical 8**\n",
        "\n"
      ],
      "metadata": {
        "id": "b-_bnpzTZ_Pu"
      }
    },
    {
      "cell_type": "code",
      "execution_count": 1,
      "metadata": {
        "colab": {
          "base_uri": "https://localhost:8080/"
        },
        "id": "8OJnbl7pZyO1",
        "outputId": "dc2abe9f-4e85-42dd-9304-66173018ad3b"
      },
      "outputs": [
        {
          "output_type": "stream",
          "name": "stdout",
          "text": [
            "✅ Coloring Result:\n",
            "Vertex 0 is assigned Color 0\n",
            "Vertex 1 is assigned Color 1\n",
            "Vertex 2 is assigned Color 2\n",
            "Vertex 3 is assigned Color 0\n",
            "Vertex 4 is assigned Color 1\n",
            "\n",
            "Total colors used: **3**\n"
          ]
        }
      ],
      "source": [
        "# The number of vertices (nodes) in the graph\n",
        "V = 5\n",
        "\n",
        "# --- 1. Graph Representation (Adjacency List) ---\n",
        "# Adjacency list: Index is the vertex, list contains its neighbors.\n",
        "# Example: graph[0] = [1, 2] means node 0 is connected to node 1 and 2.\n",
        "graph = [[] for _ in range(V)]\n",
        "\n",
        "# Function to add an edge (undirected graph)\n",
        "def add_edge(u, v):\n",
        "    graph[u].append(v)\n",
        "    graph[v].append(u)\n",
        "\n",
        "# Example Graph (A simple 5-node graph)\n",
        "add_edge(0, 1)\n",
        "add_edge(0, 2)\n",
        "add_edge(1, 2)\n",
        "add_edge(1, 3)\n",
        "add_edge(2, 4)\n",
        "add_edge(3, 4)\n",
        "\n",
        "# --- 2. Greedy Coloring Algorithm ---\n",
        "def greedy_color_graph(g, num_vertices):\n",
        "    # 'result' stores the assigned color for each vertex.\n",
        "    # Initialize all to -1 (no color). Colors are 0, 1, 2, ...\n",
        "    result = [-1] * num_vertices\n",
        "\n",
        "    # Assign the first color (color 0) to the first vertex (vertex 0)\n",
        "    result[0] = 0\n",
        "\n",
        "    # 'available' tracks colors used by neighbors of the current vertex.\n",
        "    # available[c] is True if color 'c' is used by a neighbor.\n",
        "    available = [False] * num_vertices\n",
        "\n",
        "    # Process the remaining V-1 vertices\n",
        "    for u in range(1, num_vertices):\n",
        "        # Mark all colors of u's neighbors as unavailable\n",
        "        for v in g[u]:\n",
        "            if result[v] != -1:\n",
        "                available[result[v]] = True\n",
        "\n",
        "        # Find the first available color\n",
        "        color_assigned = -1\n",
        "        for c in range(num_vertices):\n",
        "            if available[c] == False:\n",
        "                color_assigned = c\n",
        "                break\n",
        "\n",
        "        # Assign the found color\n",
        "        result[u] = color_assigned\n",
        "\n",
        "        # Reset the available array for the next iteration\n",
        "        for v in g[u]:\n",
        "            if result[v] != -1:\n",
        "                available[result[v]] = False\n",
        "\n",
        "    return result\n",
        "\n",
        "# --- 3. Execution and Output ---\n",
        "colors = greedy_color_graph(graph, V)\n",
        "\n",
        "print(\"✅ Coloring Result:\")\n",
        "for i, color in enumerate(colors):\n",
        "    print(f\"Vertex {i} is assigned Color {color}\")\n",
        "\n",
        "# The number of colors used (chromatic number estimate)\n",
        "print(f\"\\nTotal colors used: **{max(colors) + 1}**\")"
      ]
    },
    {
      "cell_type": "code",
      "source": [],
      "metadata": {
        "id": "0i_6lhsgaUXA"
      },
      "execution_count": null,
      "outputs": []
    }
  ]
}