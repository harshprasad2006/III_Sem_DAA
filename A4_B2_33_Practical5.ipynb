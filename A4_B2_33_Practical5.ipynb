{
  "nbformat": 4,
  "nbformat_minor": 0,
  "metadata": {
    "colab": {
      "provenance": []
    },
    "kernelspec": {
      "name": "python3",
      "display_name": "Python 3"
    },
    "language_info": {
      "name": "python"
    }
  },
  "cells": [
    {
      "cell_type": "markdown",
      "source": [
        "Name: Harsh Prasad\n",
        "\n",
        "\n"
      ],
      "metadata": {
        "id": "1h-x-W8T5B96"
      }
    },
    {
      "cell_type": "markdown",
      "source": [
        "Class: A4-B2-33"
      ],
      "metadata": {
        "id": "R_nDjrP15Z_l"
      }
    },
    {
      "cell_type": "markdown",
      "source": [
        "**Practical 5**"
      ],
      "metadata": {
        "id": "L8oMc_CH5Lpt"
      }
    },
    {
      "cell_type": "markdown",
      "source": [
        "**Part-A: LCS**"
      ],
      "metadata": {
        "id": "_dQVNj9e5iUx"
      }
    },
    {
      "cell_type": "code",
      "source": [
        "def lcs_length(X, Y):\n",
        "    m, n = len(X), len(Y)\n",
        "    C = [[0] * (n + 1) for _ in range(m + 1)]\n",
        "\n",
        "    for i in range(1, m + 1):\n",
        "        for j in range(1, n + 1):\n",
        "            if X[i - 1] == Y[j - 1]:\n",
        "                C[i][j] = C[i - 1][j - 1] + 1\n",
        "            else:\n",
        "                C[i][j] = max(C[i - 1][j], C[i][j - 1])\n",
        "\n",
        "    return C[m][n]\n",
        "X = \"AGGTAB\"\n",
        "Y = \"GXTXAYB\"\n",
        "\n",
        "print(\"Length of LCS:\", lcs_length(X, Y))"
      ],
      "metadata": {
        "colab": {
          "base_uri": "https://localhost:8080/"
        },
        "id": "xOaoXzoC5nTV",
        "outputId": "597e4836-3126-4382-cfa1-a08bf9832590"
      },
      "execution_count": 2,
      "outputs": [
        {
          "output_type": "stream",
          "name": "stdout",
          "text": [
            "Length of LCS: 4\n"
          ]
        }
      ]
    },
    {
      "cell_type": "markdown",
      "source": [
        "**Part-B: LRS**"
      ],
      "metadata": {
        "id": "OmB0n1K86LGr"
      }
    },
    {
      "cell_type": "code",
      "source": [
        "def longest_repeating_subseq(S):\n",
        "    n = len(S)\n",
        "    dp = [[0] * (n + 1) for _ in range(n + 1)]\n",
        "\n",
        "    for i in range(1, n + 1):\n",
        "        for j in range(1, n + 1):\n",
        "            if S[i - 1] == S[j - 1] and i != j:\n",
        "                dp[i][j] = 1 + dp[i - 1][j - 1]\n",
        "            else:\n",
        "                dp[i][j] = max(dp[i - 1][j], dp[i][j - 1])\n",
        "\n",
        "    return dp[n][n]\n",
        "S = \"AABEBCDD\"\n",
        "print(\"Length of LRS:\", longest_repeating_subseq(S))"
      ],
      "metadata": {
        "colab": {
          "base_uri": "https://localhost:8080/"
        },
        "id": "R2j-n3YU6REN",
        "outputId": "c0f04e6c-d7fb-42d0-e0ac-d91ca034213c"
      },
      "execution_count": 3,
      "outputs": [
        {
          "output_type": "stream",
          "name": "stdout",
          "text": [
            "Length of LRS: 3\n"
          ]
        }
      ]
    },
    {
      "cell_type": "code",
      "source": [],
      "metadata": {
        "id": "kV8K7Fvz6bow"
      },
      "execution_count": null,
      "outputs": []
    }
  ]
}