{
  "nbformat": 4,
  "nbformat_minor": 0,
  "metadata": {
    "colab": {
      "provenance": []
    },
    "kernelspec": {
      "name": "python3",
      "display_name": "Python 3"
    },
    "language_info": {
      "name": "python"
    }
  },
  "cells": [
    {
      "cell_type": "markdown",
      "source": [
        "Name: Harsh Prasad\n"
      ],
      "metadata": {
        "id": "3VaBFAX-ZPW_"
      }
    },
    {
      "cell_type": "markdown",
      "source": [
        "Class: A4-B2-33"
      ],
      "metadata": {
        "id": "gA8DAXhFZV8J"
      }
    },
    {
      "cell_type": "markdown",
      "source": [
        "#**Practical 7**"
      ],
      "metadata": {
        "id": "7eItwyzfZYuy"
      }
    },
    {
      "cell_type": "code",
      "source": [
        "# Practical No. 7: Hamiltonian Cycle using Backtracking\n",
        "\n",
        "# Adjacency matrix representation\n",
        "graph = [\n",
        "    [0, 1, 1, 0, 1],  # T\n",
        "    [1, 0, 1, 1, 0],  # M\n",
        "    [1, 1, 0, 1, 1],  # S\n",
        "    [0, 1, 1, 0, 1],  # H\n",
        "    [1, 0, 1, 1, 0]   # C\n",
        "]\n",
        "\n",
        "# City names for display\n",
        "areas = ['T', 'M', 'S', 'H', 'C']\n",
        "\n",
        "n = len(graph)\n",
        "\n",
        "# Check if vertex v can be added to the path\n",
        "def isSafe(v, pos, path):\n",
        "    # Must be connected to the previous vertex\n",
        "    if graph[path[pos - 1]][v] == 0:\n",
        "        return False\n",
        "    # Must not be already in path\n",
        "    if v in path:\n",
        "        return False\n",
        "    return True\n",
        "\n",
        "# Recursive utility to find Hamiltonian cycle\n",
        "def hamiltonianCycleUtil(path, pos):\n",
        "    # Base condition: all vertices visited\n",
        "    if pos == n:\n",
        "        # Check if last vertex connects back to first\n",
        "        if graph[path[pos - 1]][path[0]] == 1:\n",
        "            return True\n",
        "        else:\n",
        "            return False\n",
        "\n",
        "    # Try next vertices as candidates\n",
        "    for v in range(1, n):\n",
        "        if isSafe(v, pos, path):\n",
        "            path[pos] = v\n",
        "            if hamiltonianCycleUtil(path, pos + 1):\n",
        "                return True\n",
        "            # Backtrack\n",
        "            path[pos] = -1\n",
        "    return False\n",
        "\n",
        "# Function to solve the Hamiltonian Cycle problem\n",
        "def hamiltonianCycle():\n",
        "    path = [-1] * n\n",
        "    path[0] = 0  # Start from vertex 0 (T)\n",
        "\n",
        "    if not hamiltonianCycleUtil(path, 1):\n",
        "        print(\"No Hamiltonian Cycle found.\")\n",
        "        return\n",
        "\n",
        "    # Print the Hamiltonian cycle\n",
        "    print(\"Hamiltonian Cycle (Patrol Route):\")\n",
        "    for vertex in path:\n",
        "        print(areas[vertex], end=\" -> \")\n",
        "    print(areas[path[0]])  # Return to start\n",
        "\n",
        "# Run the program\n",
        "hamiltonianCycle()\n"
      ],
      "metadata": {
        "colab": {
          "base_uri": "https://localhost:8080/"
        },
        "id": "Mmw6Y-4CZX9s",
        "outputId": "44676f95-d6a8-4241-e9f6-0220bae84034"
      },
      "execution_count": 1,
      "outputs": [
        {
          "output_type": "stream",
          "name": "stdout",
          "text": [
            "Hamiltonian Cycle (Patrol Route):\n",
            "T -> M -> S -> H -> C -> T\n"
          ]
        }
      ]
    },
    {
      "cell_type": "code",
      "source": [],
      "metadata": {
        "id": "jBZnjrN8ZjVg"
      },
      "execution_count": null,
      "outputs": []
    }
  ]
}